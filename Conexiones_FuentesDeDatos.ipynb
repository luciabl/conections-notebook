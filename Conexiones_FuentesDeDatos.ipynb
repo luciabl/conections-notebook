{
 "cells": [
  {
   "cell_type": "markdown",
   "metadata": {},
   "source": [
    "# Conexiones a Fuentes de Datos de Meli"
   ]
  },
  {
   "cell_type": "markdown",
   "metadata": {},
   "source": [
    "<div class=\"alert alert-block alert-info\" >\n",
    "<li><a href=\"#cred\">Credenciales</a></li>\n",
    "<li><a href=\"#presto\">Conexión a Presto</a></li>\n",
    "<li><a href=\"#hive\">Conexión a Hive</a></li>\n",
    "<li><a href=\"#ga\">Conexión a Google Analytcis</a></li>\n",
    "<li><a href=\"#hotjar\">Conexión a Hotjar</a></li>\n",
    "<li><a href=\"#teradata\">Conexión a Teradata</a></li>\n",
    "<li><a href=\"#mysql\">Conexión a Mysql</a></li>\n",
    "<li><a href=\"#jira\">Conexión a Jira</a></li>\n",
    "<li><a href=\"#items\">Conexión a Api Items MELI</a></li>\n",
    "<br>\n",
    "</div>"
   ]
  },
  {
   "cell_type": "markdown",
   "metadata": {},
   "source": [
    "<a id=\"cred\"></a>\n",
    "<img src=\"https://academiasilabas.com/wp-content/uploads/2018/01/Llaves.png\" width=90/>\n",
    "<hr>"
   ]
  },
  {
   "cell_type": "markdown",
   "metadata": {},
   "source": [
    "Se definen los usuarios, passwords y hosts en el archivo pass.json"
   ]
  },
  {
   "cell_type": "code",
   "execution_count": 2,
   "metadata": {
    "collapsed": true
   },
   "outputs": [],
   "source": [
    "import json\n",
    "cred = json.loads(open('pass.json').read())"
   ]
  },
  {
   "cell_type": "code",
   "execution_count": 3,
   "metadata": {
    "collapsed": true
   },
   "outputs": [],
   "source": [
    "import pandas as pd"
   ]
  },
  {
   "cell_type": "markdown",
   "metadata": {},
   "source": [
    "<a id=\"presto\"></a>\n",
    "<img src=\"https://d2uars7xkdmztq.cloudfront.net/app_resources/9403/overview/img5085526394023443369.png\" width=200/>\n",
    "<hr>"
   ]
  },
  {
   "cell_type": "code",
   "execution_count": 7,
   "metadata": {
    "collapsed": true
   },
   "outputs": [],
   "source": [
    "from pyhive import presto"
   ]
  },
  {
   "cell_type": "code",
   "execution_count": 9,
   "metadata": {
    "collapsed": true
   },
   "outputs": [],
   "source": [
    "con = presto.Connection(host=cred['host_presto'], port=80)"
   ]
  },
  {
   "cell_type": "code",
   "execution_count": 10,
   "metadata": {
    "collapsed": true
   },
   "outputs": [],
   "source": [
    "df = pd.read_sql_query(\"select count(*) as cantidad, application.site_id from tracks where ds >= '2018-05-13' and ds < '2018-05-14' and path='/checkout/congrats' and application.site_id in ('MLA', 'MLC', 'MLU', 'MCO', 'MLM') group by application.site_id\", con)"
   ]
  },
  {
   "cell_type": "code",
   "execution_count": 11,
   "metadata": {},
   "outputs": [
    {
     "data": {
      "text/html": [
       "<div>\n",
       "<style>\n",
       "    .dataframe thead tr:only-child th {\n",
       "        text-align: right;\n",
       "    }\n",
       "\n",
       "    .dataframe thead th {\n",
       "        text-align: left;\n",
       "    }\n",
       "\n",
       "    .dataframe tbody tr th {\n",
       "        vertical-align: top;\n",
       "    }\n",
       "</style>\n",
       "<table border=\"1\" class=\"dataframe\">\n",
       "  <thead>\n",
       "    <tr style=\"text-align: right;\">\n",
       "      <th></th>\n",
       "      <th>cantidad</th>\n",
       "      <th>site_id</th>\n",
       "    </tr>\n",
       "  </thead>\n",
       "  <tbody>\n",
       "    <tr>\n",
       "      <th>0</th>\n",
       "      <td>12557</td>\n",
       "      <td>MCO</td>\n",
       "    </tr>\n",
       "    <tr>\n",
       "      <th>1</th>\n",
       "      <td>115001</td>\n",
       "      <td>MLA</td>\n",
       "    </tr>\n",
       "    <tr>\n",
       "      <th>2</th>\n",
       "      <td>72403</td>\n",
       "      <td>MLM</td>\n",
       "    </tr>\n",
       "    <tr>\n",
       "      <th>3</th>\n",
       "      <td>8914</td>\n",
       "      <td>MLU</td>\n",
       "    </tr>\n",
       "    <tr>\n",
       "      <th>4</th>\n",
       "      <td>13981</td>\n",
       "      <td>MLC</td>\n",
       "    </tr>\n",
       "  </tbody>\n",
       "</table>\n",
       "</div>"
      ],
      "text/plain": [
       "   cantidad site_id\n",
       "0     12557     MCO\n",
       "1    115001     MLA\n",
       "2     72403     MLM\n",
       "3      8914     MLU\n",
       "4     13981     MLC"
      ]
     },
     "execution_count": 11,
     "metadata": {},
     "output_type": "execute_result"
    }
   ],
   "source": [
    "df.head()"
   ]
  },
  {
   "cell_type": "markdown",
   "metadata": {},
   "source": [
    "<a id=\"hive\"></a>\n",
    "<img src=\"https://upload.wikimedia.org/wikipedia/commons/thumb/b/bb/Apache_Hive_logo.svg/1200px-Apache_Hive_logo.svg.png\" width=100/>\n",
    "<hr>"
   ]
  },
  {
   "cell_type": "code",
   "execution_count": 12,
   "metadata": {
    "collapsed": true
   },
   "outputs": [],
   "source": [
    "from pyhive import hive"
   ]
  },
  {
   "cell_type": "code",
   "execution_count": 14,
   "metadata": {
    "collapsed": true
   },
   "outputs": [],
   "source": [
    "conn = hive.Connection(host=cred['host_hive'], database=\"default\", port=10000, auth=\"LDAP\", username=cred['username'], password=cred['password_hive'])"
   ]
  },
  {
   "cell_type": "code",
   "execution_count": 15,
   "metadata": {
    "collapsed": true
   },
   "outputs": [],
   "source": [
    "df = pd.read_sql_query(\"select path, type, ds from tracks where ds>='2018-01-01' and ds<'2018-01-02' limit 10\", conn)"
   ]
  },
  {
   "cell_type": "code",
   "execution_count": 16,
   "metadata": {},
   "outputs": [
    {
     "data": {
      "text/html": [
       "<div>\n",
       "<style>\n",
       "    .dataframe thead tr:only-child th {\n",
       "        text-align: right;\n",
       "    }\n",
       "\n",
       "    .dataframe thead th {\n",
       "        text-align: left;\n",
       "    }\n",
       "\n",
       "    .dataframe tbody tr th {\n",
       "        vertical-align: top;\n",
       "    }\n",
       "</style>\n",
       "<table border=\"1\" class=\"dataframe\">\n",
       "  <thead>\n",
       "    <tr style=\"text-align: right;\">\n",
       "      <th></th>\n",
       "      <th>path</th>\n",
       "      <th>type</th>\n",
       "      <th>ds</th>\n",
       "    </tr>\n",
       "  </thead>\n",
       "  <tbody>\n",
       "    <tr>\n",
       "      <th>0</th>\n",
       "      <td>/vip</td>\n",
       "      <td>view</td>\n",
       "      <td>2018-01-01 00</td>\n",
       "    </tr>\n",
       "    <tr>\n",
       "      <th>1</th>\n",
       "      <td>/vip</td>\n",
       "      <td>view</td>\n",
       "      <td>2018-01-01 00</td>\n",
       "    </tr>\n",
       "    <tr>\n",
       "      <th>2</th>\n",
       "      <td>/search</td>\n",
       "      <td>view</td>\n",
       "      <td>2018-01-01 00</td>\n",
       "    </tr>\n",
       "    <tr>\n",
       "      <th>3</th>\n",
       "      <td>/vip</td>\n",
       "      <td>view</td>\n",
       "      <td>2018-01-01 00</td>\n",
       "    </tr>\n",
       "    <tr>\n",
       "      <th>4</th>\n",
       "      <td>/search</td>\n",
       "      <td>view</td>\n",
       "      <td>2018-01-01 00</td>\n",
       "    </tr>\n",
       "  </tbody>\n",
       "</table>\n",
       "</div>"
      ],
      "text/plain": [
       "      path  type             ds\n",
       "0     /vip  view  2018-01-01 00\n",
       "1     /vip  view  2018-01-01 00\n",
       "2  /search  view  2018-01-01 00\n",
       "3     /vip  view  2018-01-01 00\n",
       "4  /search  view  2018-01-01 00"
      ]
     },
     "execution_count": 16,
     "metadata": {},
     "output_type": "execute_result"
    }
   ],
   "source": [
    "df.head()"
   ]
  },
  {
   "cell_type": "markdown",
   "metadata": {},
   "source": [
    "<a id=\"ga\"></a>\n",
    "<img src=\"http://www.bigpubli.com/wp-content/uploads/2017/11/google-analytics-logo.png\" width=200/>\n",
    "<hr>"
   ]
  },
  {
   "cell_type": "code",
   "execution_count": 17,
   "metadata": {
    "collapsed": true
   },
   "outputs": [],
   "source": [
    "from google2pandas import GoogleAnalyticsQueryV4 #última versión de la API"
   ]
  },
  {
   "cell_type": "code",
   "execution_count": 20,
   "metadata": {
    "collapsed": true
   },
   "outputs": [],
   "source": [
    "conn = GoogleAnalyticsQueryV4(secrets='meli_ga.json')\n",
    "import logging\n",
    "logging.getLogger('googleapiclient.discovery_cache').setLevel(logging.ERROR)"
   ]
  },
  {
   "cell_type": "code",
   "execution_count": 21,
   "metadata": {
    "collapsed": true
   },
   "outputs": [],
   "source": [
    "query_wd = {\n",
    "    'reportRequests': [{\n",
    "        'viewId' : 'ga:80828321',\n",
    "        'dateRanges': [{\n",
    "            'startDate' : '2018-05-01',\n",
    "            'endDate'   : '2018-05-10'}],\n",
    "        'dimensions' : [\n",
    "            {'name' : 'ga:date'}],\n",
    "        'metrics'   : [\n",
    "            {'expression' : 'ga:pageviews'}],\n",
    "        \"dimensionFilterClauses\": [\n",
    "        {\n",
    "          \"filters\": [\n",
    "            {\n",
    "              \"dimensionName\": \"ga:pagePath\",\n",
    "              \"operator\": \"EXACT\",\n",
    "              \"expressions\": [\"/HOME/MAIN/\"]\n",
    "            }\n",
    "          ]\n",
    "        }]                            \n",
    "}]}\n",
    "\n",
    "wd = conn.execute_query(query_wd)"
   ]
  },
  {
   "cell_type": "code",
   "execution_count": 22,
   "metadata": {},
   "outputs": [
    {
     "data": {
      "text/html": [
       "<div>\n",
       "<style>\n",
       "    .dataframe thead tr:only-child th {\n",
       "        text-align: right;\n",
       "    }\n",
       "\n",
       "    .dataframe thead th {\n",
       "        text-align: left;\n",
       "    }\n",
       "\n",
       "    .dataframe tbody tr th {\n",
       "        vertical-align: top;\n",
       "    }\n",
       "</style>\n",
       "<table border=\"1\" class=\"dataframe\">\n",
       "  <thead>\n",
       "    <tr style=\"text-align: right;\">\n",
       "      <th></th>\n",
       "      <th>date</th>\n",
       "      <th>pageviews</th>\n",
       "    </tr>\n",
       "  </thead>\n",
       "  <tbody>\n",
       "    <tr>\n",
       "      <th>0</th>\n",
       "      <td>20180501</td>\n",
       "      <td>963923</td>\n",
       "    </tr>\n",
       "    <tr>\n",
       "      <th>1</th>\n",
       "      <td>20180502</td>\n",
       "      <td>1616203</td>\n",
       "    </tr>\n",
       "    <tr>\n",
       "      <th>2</th>\n",
       "      <td>20180503</td>\n",
       "      <td>1610146</td>\n",
       "    </tr>\n",
       "    <tr>\n",
       "      <th>3</th>\n",
       "      <td>20180504</td>\n",
       "      <td>1452013</td>\n",
       "    </tr>\n",
       "    <tr>\n",
       "      <th>4</th>\n",
       "      <td>20180505</td>\n",
       "      <td>987695</td>\n",
       "    </tr>\n",
       "  </tbody>\n",
       "</table>\n",
       "</div>"
      ],
      "text/plain": [
       "       date pageviews\n",
       "0  20180501    963923\n",
       "1  20180502   1616203\n",
       "2  20180503   1610146\n",
       "3  20180504   1452013\n",
       "4  20180505    987695"
      ]
     },
     "execution_count": 22,
     "metadata": {},
     "output_type": "execute_result"
    }
   ],
   "source": [
    "wd.head()"
   ]
  },
  {
   "cell_type": "markdown",
   "metadata": {},
   "source": [
    "<a id=\"hotjar\"></a>\n",
    "<img src=\"https://i1.wp.com/www.creativevisualart.com/wp-content/uploads/2014/10/hotjar-logo.png?fit=835%2C401\" width=100/>\n",
    "<hr>"
   ]
  },
  {
   "cell_type": "markdown",
   "metadata": {},
   "source": [
    "Cri cri... Próximamente..."
   ]
  },
  {
   "cell_type": "markdown",
   "metadata": {},
   "source": [
    "<a id=\"teradata\"></a>\n",
    "<img src=\"https://www.protegrity.com/wp-content/uploads/2017/02/Teradata-Logo.png\" width=200/>\n",
    "<hr>"
   ]
  },
  {
   "cell_type": "code",
   "execution_count": 4,
   "metadata": {},
   "outputs": [
    {
     "data": {
      "text/html": [
       "<div>\n",
       "<style>\n",
       "    .dataframe thead tr:only-child th {\n",
       "        text-align: right;\n",
       "    }\n",
       "\n",
       "    .dataframe thead th {\n",
       "        text-align: left;\n",
       "    }\n",
       "\n",
       "    .dataframe tbody tr th {\n",
       "        vertical-align: top;\n",
       "    }\n",
       "</style>\n",
       "<table border=\"1\" class=\"dataframe\">\n",
       "  <thead>\n",
       "    <tr style=\"text-align: right;\">\n",
       "      <th></th>\n",
       "      <th>SHP_SHIPMENT_ID</th>\n",
       "      <th>SHP_RULE_COST</th>\n",
       "      <th>SHP_FREE_SHIPPING_AMOUNT</th>\n",
       "      <th>SHP_MANDATORY_FS_DISCOUNT</th>\n",
       "    </tr>\n",
       "  </thead>\n",
       "  <tbody>\n",
       "    <tr>\n",
       "      <th>0</th>\n",
       "      <td>2.764785e+10</td>\n",
       "      <td>34.9</td>\n",
       "      <td>17.45</td>\n",
       "      <td>17.45</td>\n",
       "    </tr>\n",
       "    <tr>\n",
       "      <th>1</th>\n",
       "      <td>2.764779e+10</td>\n",
       "      <td>33.9</td>\n",
       "      <td>33.90</td>\n",
       "      <td>0.00</td>\n",
       "    </tr>\n",
       "    <tr>\n",
       "      <th>2</th>\n",
       "      <td>2.764793e+10</td>\n",
       "      <td>33.9</td>\n",
       "      <td>25.43</td>\n",
       "      <td>8.47</td>\n",
       "    </tr>\n",
       "  </tbody>\n",
       "</table>\n",
       "</div>"
      ],
      "text/plain": [
       "   SHP_SHIPMENT_ID  SHP_RULE_COST  SHP_FREE_SHIPPING_AMOUNT  \\\n",
       "0     2.764785e+10           34.9                     17.45   \n",
       "1     2.764779e+10           33.9                     33.90   \n",
       "2     2.764793e+10           33.9                     25.43   \n",
       "\n",
       "   SHP_MANDATORY_FS_DISCOUNT  \n",
       "0                      17.45  \n",
       "1                       0.00  \n",
       "2                       8.47  "
      ]
     },
     "execution_count": 4,
     "metadata": {},
     "output_type": "execute_result"
    }
   ],
   "source": [
    "import teradata\n",
    "udaExec = teradata.UdaExec (appName=\"test2\", version=\"1.0\", logConsole=False)\n",
    "with udaExec.connect(method=\"odbc\",system=cred['host_teradata'], username=cred['username'],\n",
    "                            password=cred['password_teradata'], driver=\"Teradata\") as connect:\n",
    "    query = \"SELECT shp_shipment_id, CAST(shp_rule_cost as DECIMAL(6,2) format 'ZZZZ,ZZ'), CAST(shp_free_shipping_amount as DECIMAL(6,2) format 'ZZZZ,ZZ'), CAST(shp_mandatory_fs_discount as DECIMAL(6,2) format 'ZZZZ,ZZ') FROM WHOWNER.BT_SHP_USER_COST_COMPONENTS WHERE shp_user_type = 'sender' AND SHP_shipment_ID IN ('27647849680','27647786134','27647926660')\"\n",
    "    df = pd.read_sql(query,connect)\n",
    "df.head()"
   ]
  },
  {
   "cell_type": "markdown",
   "metadata": {},
   "source": [
    "<a id=\"mysql\"></a>\n",
    "<img src=\"https://webprogramacion.com/imgs3/405.jpg\" width=150/>\n",
    "<hr>"
   ]
  },
  {
   "cell_type": "code",
   "execution_count": 88,
   "metadata": {
    "collapsed": true
   },
   "outputs": [],
   "source": [
    "import pymysql\n",
    "import pymysql.cursors\n",
    "import mysql.connector"
   ]
  },
  {
   "cell_type": "code",
   "execution_count": 90,
   "metadata": {
    "collapsed": true
   },
   "outputs": [],
   "source": [
    "cnx = mysql.connector.connect(user=cred['username'], password=cred['password_indiana'],\n",
    "                              host=cred['host_indiana'],port='6612',\n",
    "                              database='')"
   ]
  },
  {
   "cell_type": "code",
   "execution_count": 91,
   "metadata": {},
   "outputs": [
    {
     "data": {
      "text/html": [
       "<div>\n",
       "<table border=\"1\" class=\"dataframe\">\n",
       "  <thead>\n",
       "    <tr style=\"text-align: right;\">\n",
       "      <th></th>\n",
       "      <th>site</th>\n",
       "      <th>platform</th>\n",
       "      <th>date</th>\n",
       "      <th>L1</th>\n",
       "      <th>page</th>\n",
       "      <th>sessions</th>\n",
       "    </tr>\n",
       "  </thead>\n",
       "  <tbody>\n",
       "    <tr>\n",
       "      <th>90</th>\n",
       "      <td>MLA</td>\n",
       "      <td>iOS</td>\n",
       "      <td>20170701</td>\n",
       "      <td>{'MLM1182':'Instrumentos Musicales'}</td>\n",
       "      <td>/VIP/ITEM/MAIN/</td>\n",
       "      <td>2</td>\n",
       "    </tr>\n",
       "    <tr>\n",
       "      <th>91</th>\n",
       "      <td>MLA</td>\n",
       "      <td>iOS</td>\n",
       "      <td>20170701</td>\n",
       "      <td>{'MLM1246':'Belleza y Cuidado Personal'}</td>\n",
       "      <td>/VIP/ITEM/MAIN/</td>\n",
       "      <td>1</td>\n",
       "    </tr>\n",
       "    <tr>\n",
       "      <th>92</th>\n",
       "      <td>MLA</td>\n",
       "      <td>iOS</td>\n",
       "      <td>20170701</td>\n",
       "      <td>{'MLM1276':'Deportes y Fitness '}</td>\n",
       "      <td>/VIP/ITEM/MAIN/</td>\n",
       "      <td>3</td>\n",
       "    </tr>\n",
       "    <tr>\n",
       "      <th>93</th>\n",
       "      <td>MLA</td>\n",
       "      <td>iOS</td>\n",
       "      <td>20170701</td>\n",
       "      <td>{'MLM1430':'Ropa, Bolsas y Calzado'}</td>\n",
       "      <td>/VIP/ITEM/MAIN/</td>\n",
       "      <td>4</td>\n",
       "    </tr>\n",
       "    <tr>\n",
       "      <th>94</th>\n",
       "      <td>MLA</td>\n",
       "      <td>iOS</td>\n",
       "      <td>20170701</td>\n",
       "      <td>{'MLM1499':'Industrias y Oficinas'}</td>\n",
       "      <td>/VIP/ITEM/MAIN/</td>\n",
       "      <td>1</td>\n",
       "    </tr>\n",
       "    <tr>\n",
       "      <th>95</th>\n",
       "      <td>MLA</td>\n",
       "      <td>iOS</td>\n",
       "      <td>20170701</td>\n",
       "      <td>{'MLM1574':'Hogar, Muebles y Jardín'}</td>\n",
       "      <td>/VIP/ITEM/MAIN/</td>\n",
       "      <td>4</td>\n",
       "    </tr>\n",
       "    <tr>\n",
       "      <th>96</th>\n",
       "      <td>MLA</td>\n",
       "      <td>iOS</td>\n",
       "      <td>20170701</td>\n",
       "      <td>{'MLM1575':'Electrodomésticos'}</td>\n",
       "      <td>/VIP/ITEM/MAIN/</td>\n",
       "      <td>1</td>\n",
       "    </tr>\n",
       "    <tr>\n",
       "      <th>97</th>\n",
       "      <td>MLA</td>\n",
       "      <td>iOS</td>\n",
       "      <td>20170701</td>\n",
       "      <td>{'MLM1648':'Computación'}</td>\n",
       "      <td>/VIP/ITEM/MAIN/</td>\n",
       "      <td>2</td>\n",
       "    </tr>\n",
       "    <tr>\n",
       "      <th>98</th>\n",
       "      <td>MLA</td>\n",
       "      <td>iOS</td>\n",
       "      <td>20170701</td>\n",
       "      <td>{'MLM1743':'Autos, Motos y Otros'}</td>\n",
       "      <td>/VIP/ITEM/MAIN/</td>\n",
       "      <td>5</td>\n",
       "    </tr>\n",
       "    <tr>\n",
       "      <th>99</th>\n",
       "      <td>MLA</td>\n",
       "      <td>iOS</td>\n",
       "      <td>20170701</td>\n",
       "      <td>{'MLM1747':'Accesorios para Vehículos'}</td>\n",
       "      <td>/VIP/ITEM/MAIN/</td>\n",
       "      <td>4</td>\n",
       "    </tr>\n",
       "  </tbody>\n",
       "</table>\n",
       "</div>"
      ],
      "text/plain": [
       "   site platform      date                                        L1  \\\n",
       "90  MLA      iOS  20170701      {'MLM1182':'Instrumentos Musicales'}   \n",
       "91  MLA      iOS  20170701  {'MLM1246':'Belleza y Cuidado Personal'}   \n",
       "92  MLA      iOS  20170701         {'MLM1276':'Deportes y Fitness '}   \n",
       "93  MLA      iOS  20170701      {'MLM1430':'Ropa, Bolsas y Calzado'}   \n",
       "94  MLA      iOS  20170701       {'MLM1499':'Industrias y Oficinas'}   \n",
       "95  MLA      iOS  20170701     {'MLM1574':'Hogar, Muebles y Jardín'}   \n",
       "96  MLA      iOS  20170701           {'MLM1575':'Electrodomésticos'}   \n",
       "97  MLA      iOS  20170701                 {'MLM1648':'Computación'}   \n",
       "98  MLA      iOS  20170701        {'MLM1743':'Autos, Motos y Otros'}   \n",
       "99  MLA      iOS  20170701   {'MLM1747':'Accesorios para Vehículos'}   \n",
       "\n",
       "               page sessions  \n",
       "90  /VIP/ITEM/MAIN/        2  \n",
       "91  /VIP/ITEM/MAIN/        1  \n",
       "92  /VIP/ITEM/MAIN/        3  \n",
       "93  /VIP/ITEM/MAIN/        4  \n",
       "94  /VIP/ITEM/MAIN/        1  \n",
       "95  /VIP/ITEM/MAIN/        4  \n",
       "96  /VIP/ITEM/MAIN/        1  \n",
       "97  /VIP/ITEM/MAIN/        2  \n",
       "98  /VIP/ITEM/MAIN/        5  \n",
       "99  /VIP/ITEM/MAIN/        4  "
      ]
     },
     "execution_count": 91,
     "metadata": {},
     "output_type": "execute_result"
    }
   ],
   "source": [
    "df = pd.read_sql_query(\"SELECT * FROM Indiana.sesiones_page_screen_w_categL1 where platform = 'iOS' and date >='20170701' and date <= '20170712' and page = '/VIP/ITEM/MAIN/' and site = 'MLA' and site = 'MLA'limit 100\", cnx)\n",
    "df.tail(10)"
   ]
  },
  {
   "cell_type": "markdown",
   "metadata": {},
   "source": [
    "<a id=\"jira\"></a>\n",
    "<img src=\"https://botw-pd.s3.amazonaws.com/styles/logo-thumbnail/s3/042012/jira.png?itok=QlHKhtKQ\" width=100/>\n",
    "<hr>"
   ]
  },
  {
   "cell_type": "code",
   "execution_count": 4,
   "metadata": {},
   "outputs": [],
   "source": [
    "#from collections import Counter\n",
    "from jira import JIRA\n",
    "jira = JIRA(cred['host_jira'], basic_auth=(cred['email'], cred['password_jira']))\n",
    "\n",
    "issues = jira.search_issues('issuetype = \"Bug de Tracking\"')"
   ]
  },
  {
   "cell_type": "code",
   "execution_count": 5,
   "metadata": {},
   "outputs": [
    {
     "data": {
      "text/html": [
       "<div>\n",
       "<style>\n",
       "    .dataframe thead tr:only-child th {\n",
       "        text-align: right;\n",
       "    }\n",
       "\n",
       "    .dataframe thead th {\n",
       "        text-align: left;\n",
       "    }\n",
       "\n",
       "    .dataframe tbody tr th {\n",
       "        vertical-align: top;\n",
       "    }\n",
       "</style>\n",
       "<table border=\"1\" class=\"dataframe\">\n",
       "  <thead>\n",
       "    <tr style=\"text-align: right;\">\n",
       "      <th></th>\n",
       "      <th>Projecto</th>\n",
       "      <th>Incidencia</th>\n",
       "      <th>Reportó</th>\n",
       "      <th>Estado</th>\n",
       "    </tr>\n",
       "  </thead>\n",
       "  <tbody>\n",
       "    <tr>\n",
       "      <th>0</th>\n",
       "      <td>VIP</td>\n",
       "      <td>VIP-57</td>\n",
       "      <td>Lucia Blanc</td>\n",
       "      <td>Resuelto Desa</td>\n",
       "    </tr>\n",
       "    <tr>\n",
       "      <th>1</th>\n",
       "      <td>VIP</td>\n",
       "      <td>VIP-56</td>\n",
       "      <td>Lucia Blanc</td>\n",
       "      <td>Resuelto Desa</td>\n",
       "    </tr>\n",
       "    <tr>\n",
       "      <th>2</th>\n",
       "      <td>VIP</td>\n",
       "      <td>VIP-55</td>\n",
       "      <td>Lucia Blanc</td>\n",
       "      <td>Resuelto Desa</td>\n",
       "    </tr>\n",
       "    <tr>\n",
       "      <th>3</th>\n",
       "      <td>VIP</td>\n",
       "      <td>VIP-54</td>\n",
       "      <td>Lucia Blanc</td>\n",
       "      <td>Resuelto Desa</td>\n",
       "    </tr>\n",
       "    <tr>\n",
       "      <th>4</th>\n",
       "      <td>VIP</td>\n",
       "      <td>VIP-53</td>\n",
       "      <td>Lucia Blanc</td>\n",
       "      <td>Resuelto Desa</td>\n",
       "    </tr>\n",
       "  </tbody>\n",
       "</table>\n",
       "</div>"
      ],
      "text/plain": [
       "  Projecto Incidencia      Reportó         Estado\n",
       "0      VIP     VIP-57  Lucia Blanc  Resuelto Desa\n",
       "1      VIP     VIP-56  Lucia Blanc  Resuelto Desa\n",
       "2      VIP     VIP-55  Lucia Blanc  Resuelto Desa\n",
       "3      VIP     VIP-54  Lucia Blanc  Resuelto Desa\n",
       "4      VIP     VIP-53  Lucia Blanc  Resuelto Desa"
      ]
     },
     "execution_count": 5,
     "metadata": {},
     "output_type": "execute_result"
    }
   ],
   "source": [
    "df = pd.DataFrame(columns=['Projecto', 'Incidencia', 'Reportó', 'Estado'])\n",
    "for i in issues:\n",
    "    df = df.append({'Projecto': i.fields.project.key, \n",
    "                    'Incidencia': i,\n",
    "                    'Reportó': i.fields.reporter.displayName,\n",
    "                    'Estado': i.fields.status,\n",
    "                   }, ignore_index=True)\n",
    "df.head()"
   ]
  },
  {
   "cell_type": "markdown",
   "metadata": {},
   "source": [
    "<a id=\"items\"></a>\n",
    "<img src=\"data:image/png;base64,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\" width=200/>\n",
    "<hr>"
   ]
  },
  {
   "cell_type": "code",
   "execution_count": 4,
   "metadata": {},
   "outputs": [
    {
     "name": "stdout",
     "output_type": "stream",
     "text": [
      "{\"id\":\"MLB1022471805\",\"site_id\":\"MLB\",\"title\":\"Controle Remoto Samsung Smart Tv Led 4k Bn98-06901d Original\",\"subtitle\":null,\"seller_id\":60706949,\"category_id\":\"MLB59785\",\"official_store_id\":null,\"price\":79.9,\"base_price\":79.9,\"original_price\":null,\"currency_id\":\"BRL\",\"initial_quantity\":142,\"available_quantity\":50,\"sold_quantity\":50,\"sale_terms\":[],\"buying_mode\":\"buy_it_now\",\"listing_type_id\":\"gold_special\",\"start_time\":\"2018-05-02T18:59:48.000Z\",\"stop_time\":\"2038-04-27T04:00:00.000Z\",\"condition\":\"new\",\"permalink\":\"http://produto.mercadolivre.com.br/MLB-1022471805-controle-remoto-samsung-smart-tv-led-4k-bn98-06901d-original-_JM\",\"pictures\":[{\"id\":\"714215-MLB25143593274_112016\",\"url\":\"http://mlb-s2-p.mlstatic.com/714215-MLB25143593274_112016-O.jpg\",\"secure_url\":\"https://mlb-s2-p.mlstatic.com/714215-MLB25143593274_112016-O.jpg\",\"size\":\"127x499\",\"max_size\":\"270x1062\",\"quality\":\"\"},{\"id\":\"840215-MLB25143593286_112016\",\"url\":\"http://mlb-s1-p.mlstatic.com/840215-MLB25143593286_112016-O.jpg\",\"secure_url\":\"https://mlb-s1-p.mlstatic.com/840215-MLB25143593286_112016-O.jpg\",\"size\":\"200x500\",\"max_size\":\"421x1048\",\"quality\":\"\"},{\"id\":\"416115-MLB25136837439_102016\",\"url\":\"http://mlb-s1-p.mlstatic.com/416115-MLB25136837439_102016-O.jpg\",\"secure_url\":\"https://mlb-s1-p.mlstatic.com/416115-MLB25136837439_102016-O.jpg\",\"size\":\"500x375\",\"max_size\":\"500x375\",\"quality\":\"\"}],\"video_id\":null,\"descriptions\":[{\"id\":\"MLB1022471805-1660766101\"}],\"accepts_mercadopago\":true,\"non_mercado_pago_payment_methods\":[],\"shipping\":{\"mode\":\"me2\",\"local_pick_up\":true,\"free_shipping\":true,\"free_methods\":[{\"id\":100009,\"rule\":{\"free_mode\":\"exclude_region\",\"value\":[\"BR-NO\",\"BR-NE\"]}}],\"dimensions\":null,\"tags\":[],\"logistic_type\":\"drop_off\",\"store_pick_up\":false},\"international_delivery_mode\":\"none\",\"seller_address\":{\"id\":174769817,\"comment\":\"\",\"address_line\":\"\",\"zip_code\":\"\",\"city\":{\"id\":\"TUxCQ0NPTjMxMzZk\",\"name\":\"Contagem\"},\"state\":{\"id\":\"BR-MG\",\"name\":\"Minas Gerais\"},\"country\":{\"id\":\"BR\",\"name\":\"Brasil\"},\"latitude\":-19.88970307,\"longitude\":-43.7944259,\"search_location\":{\"neighborhood\":{\"id\":\"\",\"name\":\"\"},\"city\":{\"id\":\"TUxCQ1NBQjY2NWE5\",\"name\":\"Sabará\"},\"state\":{\"id\":\"TUxCUE1JTlMxNTAyZA\",\"name\":\"Minas Gerais\"}}},\"seller_contact\":null,\"location\":{},\"geolocation\":{\"latitude\":-19.8908378,\"longitude\":-43.79277295},\"coverage_areas\":[],\"attributes\":[{\"id\":\"MODEL\",\"name\":\"Modelo\",\"value_id\":null,\"value_name\":\"ORIGINAL\",\"value_struct\":null,\"attribute_group_id\":\"OTHERS\",\"attribute_group_name\":\"Outros\"},{\"id\":\"BRAND\",\"name\":\"Marca\",\"value_id\":null,\"value_name\":\"SAMSUNG\",\"value_struct\":null,\"attribute_group_id\":\"OTHERS\",\"attribute_group_name\":\"Outros\"},{\"id\":\"ITEM_CONDITION\",\"name\":\"Condição do item\",\"value_id\":\"2230284\",\"value_name\":\"Novo\",\"value_struct\":null,\"attribute_group_id\":\"OTHERS\",\"attribute_group_name\":\"Outros\"}],\"warnings\":[],\"listing_source\":\"\",\"variations\":[],\"thumbnail\":\"http://mlb-s2-p.mlstatic.com/714215-MLB25143593274_112016-I.jpg\",\"secure_thumbnail\":\"https://mlb-s2-p.mlstatic.com/714215-MLB25143593274_112016-I.jpg\",\"status\":\"active\",\"sub_status\":[],\"tags\":[\"brand_verified\",\"immediate_payment\",\"cart_eligible\"],\"warranty\":\"90 dias contra defeito de fabricação.\",\"catalog_product_id\":null,\"domain_id\":null,\"parent_item_id\":null,\"differential_pricing\":null,\"deal_ids\":[],\"automatic_relist\":false,\"date_created\":\"2018-05-02T18:59:49.000Z\",\"last_updated\":\"2018-08-03T14:27:20.000Z\",\"health\":null}\n"
     ]
    }
   ],
   "source": [
    "import requests\n",
    "r = requests.get(\"https://api.mercadolibre.com/items/\", params = {\"id\":\"MLB1022471805\"})\n",
    "if r.status_code == 200:\n",
    "    print(r.text)"
   ]
  },
  {
   "cell_type": "markdown",
   "metadata": {},
   "source": [
    "<div class=\"alert alert-block alert-info\" style=\"margin-top: 20px\" align=\"right\">\n",
    "ba-analytics@mercadolibre.com\n",
    "</div>"
   ]
  }
 ],
 "metadata": {
  "kernelspec": {
   "display_name": "Python 3",
   "language": "python",
   "name": "python3"
  }
 },
 "nbformat": 4,
 "nbformat_minor": 2
}
